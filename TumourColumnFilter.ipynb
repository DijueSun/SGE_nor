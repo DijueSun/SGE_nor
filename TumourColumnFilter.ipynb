{
 "cells": [
  {
   "cell_type": "code",
   "execution_count": 60,
   "outputs": [],
   "source": [
    "import pandas as pd\n",
    "df=pd.read_csv(\"/Users/ds39/Documents/Saturation_genome_editing/MSH2_Screening/45421_analysis/DESeq_results/E4.1_SGa_OUT.csv\")"
   ],
   "metadata": {
    "collapsed": false,
    "pycharm": {
     "name": "#%%\n"
    }
   }
  },
  {
   "cell_type": "code",
   "execution_count": 61,
   "outputs": [],
   "source": [
    "df2=pd.read_csv(\"/Users/ds39/Documents/Saturation_genome_editing/MSH2_Screening/Ingrid_somatic/CPcall_MSH2.csv\")"
   ],
   "metadata": {
    "collapsed": false,
    "pycharm": {
     "name": "#%%\n"
    }
   }
  },
  {
   "cell_type": "code",
   "execution_count": 62,
   "outputs": [],
   "source": [
    "df3 = pd.merge(df, df2, how='inner', left_on='mut_position', right_on='Start_Position')"
   ],
   "metadata": {
    "collapsed": false,
    "pycharm": {
     "name": "#%%\n"
    }
   }
  },
  {
   "cell_type": "code",
   "execution_count": 63,
   "outputs": [
    {
     "data": {
      "text/plain": "                                                   id  D0R1  D3R1  D14R1  \\\n0   ENST00000233146.7.ENSG00000095002.15_chr2:4741...   554   968      8   \n1   ENST00000233146.7.ENSG00000095002.15_chr2:4741...   607   870     19   \n2   ENST00000233146.7.ENSG00000095002.15_chr2:4741...   463   629      1   \n3   ENST00000233146.7.ENSG00000095002.15_chr2:4741...   792   932      8   \n4   ENST00000233146.7.ENSG00000095002.15_chr2:4741...   721   872      0   \n..                                                ...   ...   ...    ...   \n90  ENST00000233146.7.ENSG00000095002.15_chr2:4741...   611   782     38   \n91  ENST00000233146.7.ENSG00000095002.15_chr2:4741...   508   678      3   \n92  ENST00000233146.7.ENSG00000095002.15_chr2:4741...   508   678      3   \n93  ENST00000233146.7.ENSG00000095002.15_chr2:4741...   968  1474     36   \n94  ENST00000233146.7.ENSG00000095002.15_chr2:4741...   968  1474     36   \n\n    D0R2  D3R2  D14R2  D0R3  D3R3  D14R3  ... pvalue_D0_D14  padj_D0_D14  \\\n0    356  1285     23   625   177      0  ...      0.055286     0.131218   \n1    380  1160      0   504   128      0  ...      0.958223     0.971560   \n2    365   754      1   488    99      1  ...      0.015745     0.053724   \n3    515  1134      3   722   190      1  ...      0.135295     0.246393   \n4    246  1076      0   458   154      2  ...      0.008446     0.035865   \n..   ...   ...    ...   ...   ...    ...  ...           ...          ...   \n90   280   842      0   646   121      8  ...      0.001742     0.012819   \n91   294   706     22   523   146      8  ...      0.005171     0.026613   \n92   294   706     22   523   146      8  ...      0.005171     0.026613   \n93   661  1807      2   993   235      5  ...      0.155835     0.270640   \n94   661  1807      2   993   235      5  ...      0.155835     0.270640   \n\n         Consequence_x  Start_Position  End_Position REF_VEP  ALT_VEP  \\\n0   frameshift_variant        47412444      47412444       G        T   \n1     missense_variant        47412444      47412444       G        T   \n2     missense_variant        47412444      47412444       G        T   \n3     missense_variant        47412444      47412444       G        T   \n4     missense_variant        47412444      47412444       G        T   \n..                 ...             ...           ...     ...      ...   \n90    missense_variant        47412498      47412498       T        C   \n91  synonymous_variant        47412498      47412498       T        C   \n92  synonymous_variant        47412498      47412498       T        C   \n93    missense_variant        47412498      47412498       T        C   \n94    missense_variant        47412498      47412498       T        C   \n\n    Allele_y       Consequence_y ClinVar_CLNSIG  \n0          T         stop_gained              -  \n1          T         stop_gained              -  \n2          T         stop_gained              -  \n3          T         stop_gained              -  \n4          T         stop_gained              -  \n..       ...                 ...            ...  \n90         C  synonymous_variant              -  \n91         C  synonymous_variant              -  \n92         C  synonymous_variant              -  \n93         C  synonymous_variant              -  \n94         C  synonymous_variant              -  \n\n[95 rows x 23 columns]",
      "text/html": "<div>\n<style scoped>\n    .dataframe tbody tr th:only-of-type {\n        vertical-align: middle;\n    }\n\n    .dataframe tbody tr th {\n        vertical-align: top;\n    }\n\n    .dataframe thead th {\n        text-align: right;\n    }\n</style>\n<table border=\"1\" class=\"dataframe\">\n  <thead>\n    <tr style=\"text-align: right;\">\n      <th></th>\n      <th>id</th>\n      <th>D0R1</th>\n      <th>D3R1</th>\n      <th>D14R1</th>\n      <th>D0R2</th>\n      <th>D3R2</th>\n      <th>D14R2</th>\n      <th>D0R3</th>\n      <th>D3R3</th>\n      <th>D14R3</th>\n      <th>...</th>\n      <th>pvalue_D0_D14</th>\n      <th>padj_D0_D14</th>\n      <th>Consequence_x</th>\n      <th>Start_Position</th>\n      <th>End_Position</th>\n      <th>REF_VEP</th>\n      <th>ALT_VEP</th>\n      <th>Allele_y</th>\n      <th>Consequence_y</th>\n      <th>ClinVar_CLNSIG</th>\n    </tr>\n  </thead>\n  <tbody>\n    <tr>\n      <th>0</th>\n      <td>ENST00000233146.7.ENSG00000095002.15_chr2:4741...</td>\n      <td>554</td>\n      <td>968</td>\n      <td>8</td>\n      <td>356</td>\n      <td>1285</td>\n      <td>23</td>\n      <td>625</td>\n      <td>177</td>\n      <td>0</td>\n      <td>...</td>\n      <td>0.055286</td>\n      <td>0.131218</td>\n      <td>frameshift_variant</td>\n      <td>47412444</td>\n      <td>47412444</td>\n      <td>G</td>\n      <td>T</td>\n      <td>T</td>\n      <td>stop_gained</td>\n      <td>-</td>\n    </tr>\n    <tr>\n      <th>1</th>\n      <td>ENST00000233146.7.ENSG00000095002.15_chr2:4741...</td>\n      <td>607</td>\n      <td>870</td>\n      <td>19</td>\n      <td>380</td>\n      <td>1160</td>\n      <td>0</td>\n      <td>504</td>\n      <td>128</td>\n      <td>0</td>\n      <td>...</td>\n      <td>0.958223</td>\n      <td>0.971560</td>\n      <td>missense_variant</td>\n      <td>47412444</td>\n      <td>47412444</td>\n      <td>G</td>\n      <td>T</td>\n      <td>T</td>\n      <td>stop_gained</td>\n      <td>-</td>\n    </tr>\n    <tr>\n      <th>2</th>\n      <td>ENST00000233146.7.ENSG00000095002.15_chr2:4741...</td>\n      <td>463</td>\n      <td>629</td>\n      <td>1</td>\n      <td>365</td>\n      <td>754</td>\n      <td>1</td>\n      <td>488</td>\n      <td>99</td>\n      <td>1</td>\n      <td>...</td>\n      <td>0.015745</td>\n      <td>0.053724</td>\n      <td>missense_variant</td>\n      <td>47412444</td>\n      <td>47412444</td>\n      <td>G</td>\n      <td>T</td>\n      <td>T</td>\n      <td>stop_gained</td>\n      <td>-</td>\n    </tr>\n    <tr>\n      <th>3</th>\n      <td>ENST00000233146.7.ENSG00000095002.15_chr2:4741...</td>\n      <td>792</td>\n      <td>932</td>\n      <td>8</td>\n      <td>515</td>\n      <td>1134</td>\n      <td>3</td>\n      <td>722</td>\n      <td>190</td>\n      <td>1</td>\n      <td>...</td>\n      <td>0.135295</td>\n      <td>0.246393</td>\n      <td>missense_variant</td>\n      <td>47412444</td>\n      <td>47412444</td>\n      <td>G</td>\n      <td>T</td>\n      <td>T</td>\n      <td>stop_gained</td>\n      <td>-</td>\n    </tr>\n    <tr>\n      <th>4</th>\n      <td>ENST00000233146.7.ENSG00000095002.15_chr2:4741...</td>\n      <td>721</td>\n      <td>872</td>\n      <td>0</td>\n      <td>246</td>\n      <td>1076</td>\n      <td>0</td>\n      <td>458</td>\n      <td>154</td>\n      <td>2</td>\n      <td>...</td>\n      <td>0.008446</td>\n      <td>0.035865</td>\n      <td>missense_variant</td>\n      <td>47412444</td>\n      <td>47412444</td>\n      <td>G</td>\n      <td>T</td>\n      <td>T</td>\n      <td>stop_gained</td>\n      <td>-</td>\n    </tr>\n    <tr>\n      <th>...</th>\n      <td>...</td>\n      <td>...</td>\n      <td>...</td>\n      <td>...</td>\n      <td>...</td>\n      <td>...</td>\n      <td>...</td>\n      <td>...</td>\n      <td>...</td>\n      <td>...</td>\n      <td>...</td>\n      <td>...</td>\n      <td>...</td>\n      <td>...</td>\n      <td>...</td>\n      <td>...</td>\n      <td>...</td>\n      <td>...</td>\n      <td>...</td>\n      <td>...</td>\n      <td>...</td>\n    </tr>\n    <tr>\n      <th>90</th>\n      <td>ENST00000233146.7.ENSG00000095002.15_chr2:4741...</td>\n      <td>611</td>\n      <td>782</td>\n      <td>38</td>\n      <td>280</td>\n      <td>842</td>\n      <td>0</td>\n      <td>646</td>\n      <td>121</td>\n      <td>8</td>\n      <td>...</td>\n      <td>0.001742</td>\n      <td>0.012819</td>\n      <td>missense_variant</td>\n      <td>47412498</td>\n      <td>47412498</td>\n      <td>T</td>\n      <td>C</td>\n      <td>C</td>\n      <td>synonymous_variant</td>\n      <td>-</td>\n    </tr>\n    <tr>\n      <th>91</th>\n      <td>ENST00000233146.7.ENSG00000095002.15_chr2:4741...</td>\n      <td>508</td>\n      <td>678</td>\n      <td>3</td>\n      <td>294</td>\n      <td>706</td>\n      <td>22</td>\n      <td>523</td>\n      <td>146</td>\n      <td>8</td>\n      <td>...</td>\n      <td>0.005171</td>\n      <td>0.026613</td>\n      <td>synonymous_variant</td>\n      <td>47412498</td>\n      <td>47412498</td>\n      <td>T</td>\n      <td>C</td>\n      <td>C</td>\n      <td>synonymous_variant</td>\n      <td>-</td>\n    </tr>\n    <tr>\n      <th>92</th>\n      <td>ENST00000233146.7.ENSG00000095002.15_chr2:4741...</td>\n      <td>508</td>\n      <td>678</td>\n      <td>3</td>\n      <td>294</td>\n      <td>706</td>\n      <td>22</td>\n      <td>523</td>\n      <td>146</td>\n      <td>8</td>\n      <td>...</td>\n      <td>0.005171</td>\n      <td>0.026613</td>\n      <td>synonymous_variant</td>\n      <td>47412498</td>\n      <td>47412498</td>\n      <td>T</td>\n      <td>C</td>\n      <td>C</td>\n      <td>synonymous_variant</td>\n      <td>-</td>\n    </tr>\n    <tr>\n      <th>93</th>\n      <td>ENST00000233146.7.ENSG00000095002.15_chr2:4741...</td>\n      <td>968</td>\n      <td>1474</td>\n      <td>36</td>\n      <td>661</td>\n      <td>1807</td>\n      <td>2</td>\n      <td>993</td>\n      <td>235</td>\n      <td>5</td>\n      <td>...</td>\n      <td>0.155835</td>\n      <td>0.270640</td>\n      <td>missense_variant</td>\n      <td>47412498</td>\n      <td>47412498</td>\n      <td>T</td>\n      <td>C</td>\n      <td>C</td>\n      <td>synonymous_variant</td>\n      <td>-</td>\n    </tr>\n    <tr>\n      <th>94</th>\n      <td>ENST00000233146.7.ENSG00000095002.15_chr2:4741...</td>\n      <td>968</td>\n      <td>1474</td>\n      <td>36</td>\n      <td>661</td>\n      <td>1807</td>\n      <td>2</td>\n      <td>993</td>\n      <td>235</td>\n      <td>5</td>\n      <td>...</td>\n      <td>0.155835</td>\n      <td>0.270640</td>\n      <td>missense_variant</td>\n      <td>47412498</td>\n      <td>47412498</td>\n      <td>T</td>\n      <td>C</td>\n      <td>C</td>\n      <td>synonymous_variant</td>\n      <td>-</td>\n    </tr>\n  </tbody>\n</table>\n<p>95 rows × 23 columns</p>\n</div>"
     },
     "execution_count": 63,
     "metadata": {},
     "output_type": "execute_result"
    }
   ],
   "source": [
    "df3= df3[['id','D0R1','D3R1','D14R1','D0R2','D3R2','D14R2','D0R3','D3R3','D14R3','CLIN_SIG','mut_position','adj_lfc_D0_D14','pvalue_D0_D14','padj_D0_D14','Consequence_x','Start_Position','End_Position','REF_VEP', 'ALT_VEP', 'Allele_y', 'Consequence_y','ClinVar_CLNSIG']]\n",
    "df3"
   ],
   "metadata": {
    "collapsed": false,
    "pycharm": {
     "name": "#%%\n"
    }
   }
  },
  {
   "cell_type": "code",
   "execution_count": 64,
   "outputs": [],
   "source": [
    "df3.to_csv('/Users/ds39/Documents/Saturation_genome_editing/MSH2_Screening/Ingrid_somatic/somaticjoin_4.1a.csv',index=False)"
   ],
   "metadata": {
    "collapsed": false,
    "pycharm": {
     "name": "#%%\n"
    }
   }
  },
  {
   "cell_type": "code",
   "execution_count": 65,
   "outputs": [],
   "source": [
    "E1_2a=pd.read_csv(\"/Users/ds39/Documents/Saturation_genome_editing/MSH2_Screening/Ingrid_somatic/somaticjoin_1.2a.csv\")\n",
    "E4_1a=pd.read_csv(\"/Users/ds39/Documents/Saturation_genome_editing/MSH2_Screening/Ingrid_somatic/somaticjoin_4.1a.csv\")\n",
    "E7_2a=pd.read_csv(\"/Users/ds39/Documents/Saturation_genome_editing/MSH2_Screening/Ingrid_somatic/somaticjoin_7.2a.csv\")"
   ],
   "metadata": {
    "collapsed": false,
    "pycharm": {
     "name": "#%%\n"
    }
   }
  },
  {
   "cell_type": "code",
   "execution_count": 66,
   "outputs": [
    {
     "data": {
      "text/plain": "                                                   id  D0R1  D3R1  D14R1  \\\n0   ENST00000233146.7.ENSG00000095002.15_chr2:4740...    23    10      1   \n1   ENST00000233146.7.ENSG00000095002.15_chr2:4740...     8     2      1   \n0   ENST00000233146.7.ENSG00000095002.15_chr2:4741...   554   968      8   \n1   ENST00000233146.7.ENSG00000095002.15_chr2:4741...   607   870     19   \n2   ENST00000233146.7.ENSG00000095002.15_chr2:4741...   463   629      1   \n..                                                ...   ...   ...    ...   \n88  ENST00000233146.7.ENSG00000095002.15_chr2:4742...   406   260    101   \n89  ENST00000233146.7.ENSG00000095002.15_chr2:4742...   406   260    101   \n90  ENST00000233146.7.ENSG00000095002.15_chr2:4742...   427   281     25   \n91  ENST00000233146.7.ENSG00000095002.15_chr2:4742...   347   414    467   \n92  ENST00000233146.7.ENSG00000095002.15_chr2:4742...   347   414    467   \n\n    D0R2  D3R2  D14R2  D0R3  D3R3  D14R3  ... pvalue_D0_D14  padj_D0_D14  \\\n0     12    18      0    14     9      0  ...      0.798044     0.855472   \n1      4     3      0    10     4      0  ...      0.606652     0.715560   \n0    356  1285     23   625   177      0  ...      0.055286     0.131218   \n1    380  1160      0   504   128      0  ...      0.958223     0.971560   \n2    365   754      1   488    99      1  ...      0.015745     0.053724   \n..   ...   ...    ...   ...   ...    ...  ...           ...          ...   \n88   574   349    354   484   237     52  ...      0.125249     0.184373   \n89   574   349    354   484   237     52  ...      0.125249     0.184373   \n90   643   379    103   424   206     71  ...      0.530440     0.612206   \n91   700   434    972   462   362     76  ...      0.001067     0.003022   \n92   700   434    972   462   362     76  ...      0.001067     0.003022   \n\n         Consequence_x  Start_Position  End_Position REF_VEP  ALT_VEP  \\\n0   frameshift_variant        47403220      47403220       A        C   \n1     missense_variant        47403220      47403220       A        C   \n0   frameshift_variant        47412444      47412444       G        T   \n1     missense_variant        47412444      47412444       G        T   \n2     missense_variant        47412444      47412444       G        T   \n..                 ...             ...           ...     ...      ...   \n88    missense_variant        47429938      47429938       G        T   \n89    missense_variant        47429938      47429938       G        T   \n90    missense_variant        47429938      47429938       G        T   \n91         stop_gained        47429938      47429938       G        T   \n92         stop_gained        47429938      47429938       G        T   \n\n    Allele_y     Consequence_y          ClinVar_CLNSIG  \n0          C  missense_variant  Uncertain_significance  \n1          C  missense_variant  Uncertain_significance  \n0          T       stop_gained                       -  \n1          T       stop_gained                       -  \n2          T       stop_gained                       -  \n..       ...               ...                     ...  \n88         T       stop_gained              Pathogenic  \n89         T       stop_gained              Pathogenic  \n90         T       stop_gained              Pathogenic  \n91         T       stop_gained              Pathogenic  \n92         T       stop_gained              Pathogenic  \n\n[190 rows x 23 columns]",
      "text/html": "<div>\n<style scoped>\n    .dataframe tbody tr th:only-of-type {\n        vertical-align: middle;\n    }\n\n    .dataframe tbody tr th {\n        vertical-align: top;\n    }\n\n    .dataframe thead th {\n        text-align: right;\n    }\n</style>\n<table border=\"1\" class=\"dataframe\">\n  <thead>\n    <tr style=\"text-align: right;\">\n      <th></th>\n      <th>id</th>\n      <th>D0R1</th>\n      <th>D3R1</th>\n      <th>D14R1</th>\n      <th>D0R2</th>\n      <th>D3R2</th>\n      <th>D14R2</th>\n      <th>D0R3</th>\n      <th>D3R3</th>\n      <th>D14R3</th>\n      <th>...</th>\n      <th>pvalue_D0_D14</th>\n      <th>padj_D0_D14</th>\n      <th>Consequence_x</th>\n      <th>Start_Position</th>\n      <th>End_Position</th>\n      <th>REF_VEP</th>\n      <th>ALT_VEP</th>\n      <th>Allele_y</th>\n      <th>Consequence_y</th>\n      <th>ClinVar_CLNSIG</th>\n    </tr>\n  </thead>\n  <tbody>\n    <tr>\n      <th>0</th>\n      <td>ENST00000233146.7.ENSG00000095002.15_chr2:4740...</td>\n      <td>23</td>\n      <td>10</td>\n      <td>1</td>\n      <td>12</td>\n      <td>18</td>\n      <td>0</td>\n      <td>14</td>\n      <td>9</td>\n      <td>0</td>\n      <td>...</td>\n      <td>0.798044</td>\n      <td>0.855472</td>\n      <td>frameshift_variant</td>\n      <td>47403220</td>\n      <td>47403220</td>\n      <td>A</td>\n      <td>C</td>\n      <td>C</td>\n      <td>missense_variant</td>\n      <td>Uncertain_significance</td>\n    </tr>\n    <tr>\n      <th>1</th>\n      <td>ENST00000233146.7.ENSG00000095002.15_chr2:4740...</td>\n      <td>8</td>\n      <td>2</td>\n      <td>1</td>\n      <td>4</td>\n      <td>3</td>\n      <td>0</td>\n      <td>10</td>\n      <td>4</td>\n      <td>0</td>\n      <td>...</td>\n      <td>0.606652</td>\n      <td>0.715560</td>\n      <td>missense_variant</td>\n      <td>47403220</td>\n      <td>47403220</td>\n      <td>A</td>\n      <td>C</td>\n      <td>C</td>\n      <td>missense_variant</td>\n      <td>Uncertain_significance</td>\n    </tr>\n    <tr>\n      <th>0</th>\n      <td>ENST00000233146.7.ENSG00000095002.15_chr2:4741...</td>\n      <td>554</td>\n      <td>968</td>\n      <td>8</td>\n      <td>356</td>\n      <td>1285</td>\n      <td>23</td>\n      <td>625</td>\n      <td>177</td>\n      <td>0</td>\n      <td>...</td>\n      <td>0.055286</td>\n      <td>0.131218</td>\n      <td>frameshift_variant</td>\n      <td>47412444</td>\n      <td>47412444</td>\n      <td>G</td>\n      <td>T</td>\n      <td>T</td>\n      <td>stop_gained</td>\n      <td>-</td>\n    </tr>\n    <tr>\n      <th>1</th>\n      <td>ENST00000233146.7.ENSG00000095002.15_chr2:4741...</td>\n      <td>607</td>\n      <td>870</td>\n      <td>19</td>\n      <td>380</td>\n      <td>1160</td>\n      <td>0</td>\n      <td>504</td>\n      <td>128</td>\n      <td>0</td>\n      <td>...</td>\n      <td>0.958223</td>\n      <td>0.971560</td>\n      <td>missense_variant</td>\n      <td>47412444</td>\n      <td>47412444</td>\n      <td>G</td>\n      <td>T</td>\n      <td>T</td>\n      <td>stop_gained</td>\n      <td>-</td>\n    </tr>\n    <tr>\n      <th>2</th>\n      <td>ENST00000233146.7.ENSG00000095002.15_chr2:4741...</td>\n      <td>463</td>\n      <td>629</td>\n      <td>1</td>\n      <td>365</td>\n      <td>754</td>\n      <td>1</td>\n      <td>488</td>\n      <td>99</td>\n      <td>1</td>\n      <td>...</td>\n      <td>0.015745</td>\n      <td>0.053724</td>\n      <td>missense_variant</td>\n      <td>47412444</td>\n      <td>47412444</td>\n      <td>G</td>\n      <td>T</td>\n      <td>T</td>\n      <td>stop_gained</td>\n      <td>-</td>\n    </tr>\n    <tr>\n      <th>...</th>\n      <td>...</td>\n      <td>...</td>\n      <td>...</td>\n      <td>...</td>\n      <td>...</td>\n      <td>...</td>\n      <td>...</td>\n      <td>...</td>\n      <td>...</td>\n      <td>...</td>\n      <td>...</td>\n      <td>...</td>\n      <td>...</td>\n      <td>...</td>\n      <td>...</td>\n      <td>...</td>\n      <td>...</td>\n      <td>...</td>\n      <td>...</td>\n      <td>...</td>\n      <td>...</td>\n    </tr>\n    <tr>\n      <th>88</th>\n      <td>ENST00000233146.7.ENSG00000095002.15_chr2:4742...</td>\n      <td>406</td>\n      <td>260</td>\n      <td>101</td>\n      <td>574</td>\n      <td>349</td>\n      <td>354</td>\n      <td>484</td>\n      <td>237</td>\n      <td>52</td>\n      <td>...</td>\n      <td>0.125249</td>\n      <td>0.184373</td>\n      <td>missense_variant</td>\n      <td>47429938</td>\n      <td>47429938</td>\n      <td>G</td>\n      <td>T</td>\n      <td>T</td>\n      <td>stop_gained</td>\n      <td>Pathogenic</td>\n    </tr>\n    <tr>\n      <th>89</th>\n      <td>ENST00000233146.7.ENSG00000095002.15_chr2:4742...</td>\n      <td>406</td>\n      <td>260</td>\n      <td>101</td>\n      <td>574</td>\n      <td>349</td>\n      <td>354</td>\n      <td>484</td>\n      <td>237</td>\n      <td>52</td>\n      <td>...</td>\n      <td>0.125249</td>\n      <td>0.184373</td>\n      <td>missense_variant</td>\n      <td>47429938</td>\n      <td>47429938</td>\n      <td>G</td>\n      <td>T</td>\n      <td>T</td>\n      <td>stop_gained</td>\n      <td>Pathogenic</td>\n    </tr>\n    <tr>\n      <th>90</th>\n      <td>ENST00000233146.7.ENSG00000095002.15_chr2:4742...</td>\n      <td>427</td>\n      <td>281</td>\n      <td>25</td>\n      <td>643</td>\n      <td>379</td>\n      <td>103</td>\n      <td>424</td>\n      <td>206</td>\n      <td>71</td>\n      <td>...</td>\n      <td>0.530440</td>\n      <td>0.612206</td>\n      <td>missense_variant</td>\n      <td>47429938</td>\n      <td>47429938</td>\n      <td>G</td>\n      <td>T</td>\n      <td>T</td>\n      <td>stop_gained</td>\n      <td>Pathogenic</td>\n    </tr>\n    <tr>\n      <th>91</th>\n      <td>ENST00000233146.7.ENSG00000095002.15_chr2:4742...</td>\n      <td>347</td>\n      <td>414</td>\n      <td>467</td>\n      <td>700</td>\n      <td>434</td>\n      <td>972</td>\n      <td>462</td>\n      <td>362</td>\n      <td>76</td>\n      <td>...</td>\n      <td>0.001067</td>\n      <td>0.003022</td>\n      <td>stop_gained</td>\n      <td>47429938</td>\n      <td>47429938</td>\n      <td>G</td>\n      <td>T</td>\n      <td>T</td>\n      <td>stop_gained</td>\n      <td>Pathogenic</td>\n    </tr>\n    <tr>\n      <th>92</th>\n      <td>ENST00000233146.7.ENSG00000095002.15_chr2:4742...</td>\n      <td>347</td>\n      <td>414</td>\n      <td>467</td>\n      <td>700</td>\n      <td>434</td>\n      <td>972</td>\n      <td>462</td>\n      <td>362</td>\n      <td>76</td>\n      <td>...</td>\n      <td>0.001067</td>\n      <td>0.003022</td>\n      <td>stop_gained</td>\n      <td>47429938</td>\n      <td>47429938</td>\n      <td>G</td>\n      <td>T</td>\n      <td>T</td>\n      <td>stop_gained</td>\n      <td>Pathogenic</td>\n    </tr>\n  </tbody>\n</table>\n<p>190 rows × 23 columns</p>\n</div>"
     },
     "execution_count": 66,
     "metadata": {},
     "output_type": "execute_result"
    }
   ],
   "source": [
    "frames = [E1_2a, E4_1a, E7_2a]\n",
    "combine = pd.concat(frames)\n",
    "combine"
   ],
   "metadata": {
    "collapsed": false,
    "pycharm": {
     "name": "#%%\n"
    }
   }
  },
  {
   "cell_type": "code",
   "execution_count": 69,
   "outputs": [],
   "source": [
    "# combine.to_csv('/Users/ds39/Documents/Saturation_genome_editing/MSH2_Screening/somaticjoin_join.csv', index=False)gi"
   ],
   "metadata": {
    "collapsed": false,
    "pycharm": {
     "name": "#%%\n"
    }
   }
  },
  {
   "cell_type": "code",
   "execution_count": null,
   "outputs": [],
   "source": [],
   "metadata": {
    "collapsed": false,
    "pycharm": {
     "name": "#%%\n"
    }
   }
  }
 ],
 "metadata": {
  "kernelspec": {
   "display_name": "Python 3",
   "language": "python",
   "name": "python3"
  },
  "language_info": {
   "codemirror_mode": {
    "name": "ipython",
    "version": 2
   },
   "file_extension": ".py",
   "mimetype": "text/x-python",
   "name": "python",
   "nbconvert_exporter": "python",
   "pygments_lexer": "ipython2",
   "version": "2.7.6"
  }
 },
 "nbformat": 4,
 "nbformat_minor": 0
}